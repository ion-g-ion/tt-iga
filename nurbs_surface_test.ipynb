{
 "cells": [
  {
   "cell_type": "code",
   "execution_count": null,
   "metadata": {},
   "outputs": [],
   "source": [
    "import torch as tn\n",
    "import torchtt as tntt\n",
    "import matplotlib.pyplot as plt\n",
    "import tt_iga\n",
    "import numpy as np\n",
    "import datetime\n",
    "import scipy.sparse\n",
    "import scipy.sparse.linalg\n",
    "import pandas as pd\n",
    "\n",
    "tn.set_default_dtype(tn.float64)"
   ]
  },
  {
   "cell_type": "code",
   "execution_count": null,
   "metadata": {},
   "outputs": [],
   "source": [
    "Nt = 24                                                                \n",
    "lz = 40e-3                                                             \n",
    "Do = 72e-3                                                            \n",
    "Di = 51e-3                                                            \n",
    "hi = 13e-3                                                             \n",
    "bli = 3e-3                                                             \n",
    "Dc = 3.27640e-2                                                           \n",
    "hc = 7.55176e-3                                                           \n",
    "ri = 20e-3                                                           \n",
    "ra = 18e-3                                                           \n",
    "blc = hi-hc                                                           \n",
    "rm = (Dc*Dc+hc*hc-ri*ri)/(Dc*np.sqrt(2)+hc*np.sqrt(2)-2*ri)                 \n",
    "R = rm-ri\n",
    "O = np.array([rm/np.sqrt(2),rm/np.sqrt(2)])\n",
    "alpha1 = -np.pi*3/4       \n",
    "alpha2 = np.math.asin((hc-rm/np.sqrt(2))/R)\n",
    "alpha = np.abs(alpha2-alpha1)\n",
    "\n",
    "A = np.array([[O[0] - ri/np.sqrt(2), O[1] - ri/np.sqrt(2)], [O[0] - Dc, O[1] - hc]])\n",
    "b = np.array([[A[0,0]*ri/np.sqrt(2)+A[0,1]*ri/np.sqrt(2)],[A[1,0]*Dc+A[1,1]*hc]])\n",
    "C = np.linalg.solve(A,b)\n",
    "\n",
    "control_points1 = np.array([[Do,Do * np.tan(np.pi/8)],[Do/np.sqrt(2),Do/np.sqrt(2)],[Do/np.sqrt(2),Do/np.sqrt(2)],[rm/np.sqrt(2),rm/np.sqrt(2)],[ri/np.sqrt(2),ri/np.sqrt(2)]])\n",
    "#knots2 = np.array([[Dc,hc],[Dc+blc,hi],[Di-bli,hi],[Di,hi-bli],[Di,0]])\n",
    "control_points2 = np.array([[Di,hi-bli],[Di-bli,hi],[Di-bli,hi],[Dc+blc,hi],[Dc,hc]])\n",
    "control_points3 = (control_points1+control_points2)/2\n",
    "control_points3[-1,:] = C.flatten()\n",
    "control_points = np.concatenate((control_points1[:,None,:],control_points3[:,None,:],control_points2[:,None,:]),1)\n",
    "weights = np.ones((5,3))\n",
    "weights[1,-1] = np.sin((np.pi-alpha)/2)\n",
    "\n",
    "\n",
    "basis1 = tt_iga.bspline.BSplineBasis(np.array(np.linspace(0,1,4)),2)\n",
    "basis2 = tt_iga.bspline.BSplineBasis(np.array([0,1]),2)\n",
    "\n",
    "geom = tt_iga.PatchNURBS([basis1, basis2],[], [tntt.TT(control_points[:,:,0]), tntt.TT(control_points[:,:,1])], tntt.TT(weights))\n"
   ]
  },
  {
   "cell_type": "code",
   "execution_count": null,
   "metadata": {},
   "outputs": [],
   "source": [
    "y1,y2 = tn.linspace(0,1,100), tn.linspace(0,1,100)\n",
    "\n",
    "Xs = geom([y1.flatten(),y2.flatten()])\n",
    "plt.figure()\n",
    "\n",
    "plt.scatter(Xs[0].numpy().flatten(),Xs[1].numpy().flatten(),s=0.25)\n",
    "\n",
    "xg1, Mg1 = basis1.interpolating_points()\n",
    "xg2, Mg2 = basis2.interpolating_points()\n",
    "\n",
    "xs = geom([xg1.flatten(),xg2.flatten()])\n",
    "f = xs[0].numpy()**2+xs[1].numpy()**2\n",
    "dofs = np.linalg.solve(np.einsum('ij,kl->ikjl',Mg1,Mg2).reshape([15,-1]),f.reshape([-1,1])).reshape([5,3])\n",
    "# dofs = np.zeros((5,3))\n",
    "# dofs[2,1] = 1\n",
    "# dofs[1,1] = 1\n",
    "z = tn.outer(tn.sin(10*y1),tn.cos(10*y2))\n",
    "z = np.einsum('ij,im,jn->mn',dofs,basis1(y1),basis2(y2))\n",
    "plt.figure()\n",
    "plt.contour(Xs[0].numpy(),Xs[1].numpy(),z,levels=20)\n",
    "\n",
    "\n"
   ]
  }
 ],
 "metadata": {
  "kernelspec": {
   "display_name": "Python 3.9.7 ('pytorch')",
   "language": "python",
   "name": "python3"
  },
  "language_info": {
   "codemirror_mode": {
    "name": "ipython",
    "version": 3
   },
   "file_extension": ".py",
   "mimetype": "text/x-python",
   "name": "python",
   "nbconvert_exporter": "python",
   "pygments_lexer": "ipython3",
   "version": "3.9.7"
  },
  "orig_nbformat": 4,
  "vscode": {
   "interpreter": {
    "hash": "df6fc3a9b7a9c6f4b0308ab6eb361a4cabbf6b5db181383d07014ff4304e5cb3"
   }
  }
 },
 "nbformat": 4,
 "nbformat_minor": 2
}
