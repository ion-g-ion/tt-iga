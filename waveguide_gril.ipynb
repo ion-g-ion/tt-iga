{
 "cells": [
  {
   "cell_type": "code",
   "execution_count": 1,
   "metadata": {},
   "outputs": [],
   "source": [
    "import torch as tn\n",
    "import numpy as np\n",
    "import matplotlib.pyplot as plt\n",
    "import matplotlib.colors\n",
    "import datetime\n",
    "import torchtt as tntt\n",
    "import tt_iga\n",
    "\n",
    "\n",
    "tn.set_default_dtype(tn.float64)"
   ]
  },
  {
   "cell_type": "code",
   "execution_count": null,
   "metadata": {},
   "outputs": [],
   "source": [
    "R = 1.5\n",
    "r = 1.0\n",
    "H = 0.5\n",
    "cov = 0.75\n",
    "nl = 20\n",
    "deg = 2\n",
    "N = 64\n",
    "delta_r = (R-r)/(2*nl+1)\n",
    "n = 10\n",
    "\n",
    "knots1 = [np.linspace(k/(2*nl+1),(k+1)/(2*nl+1) ,n) for k in range(2*nl+1)]\n",
    "\n",
    "basis1 = tt_iga.bspline.BSplineBasis(np.concatenate(tuple(knots1)), deg)\n",
    "basis2 = tt_iga.bspline.BSplineBasis(np.concatenate((np.linspace(0,(1-cov)/2,N//4), np.linspace((1-cov)/2,cov+(1-cov)/2,N//2), np.linspace(1-(1-cov)/2,1,N//4))) , deg)\n",
    "basis3 = tt_iga.bspline.BSplineBasis(np.linspace(0,1,N), deg)\n",
    "basis = [basis1, basis2, basis3]\n",
    "\n",
    "xparam = lambda t: (r+(R-r)*t[...,0])*tn.cos(t[...,1]*np.pi/4)\n",
    "yparam = lambda t: (r+(R-r)*t[...,0])*tn.sin(t[...,1]*np.pi/4)\n",
    "zparam = lambda t: t[...,2]*H\n",
    "\n",
    "geom = tt_iga.PatchBSpline.interpolate_geometry([xparam, yparam, zparam], basis, [])\n",
    "N_basis = [b.N for b in geom.basis]\n"
   ]
  },
  {
   "cell_type": "code",
   "execution_count": null,
   "metadata": {},
   "outputs": [],
   "source": [
    "def material_alpha(y):\n",
    "    delta_l = 1/(2*nl+1)\n",
    "    return 0.0*y[...,2]+2.0*tn.logical_and(y[...,1]>=(1-cov)/2,y[:,1]<1-(1-cov)/2)*((tn.ceil(y[...,0]/delta_l)+1)%2)+1\n",
    "    \n",
    "tme = datetime.datetime.now() \n",
    "Mass_tt = geom.mass_interp(basis, eps=1e-11)\n",
    "tme = datetime.datetime.now() -tme\n",
    "print('Time mass matrix ',tme.total_seconds())\n",
    "\n",
    "freq = 4\n",
    "kinv = lambda y: (material_alpha(y)/(2*np.pi*freq))**2\n",
    "\n",
    "tme = datetime.datetime.now() \n",
    "Stt = geom.stiffness_interp(basis, func=None, qtt = False, func_reference = kinv, verb=False)\n",
    "tme = datetime.datetime.now() -tme\n",
    "print('Time stiffness matrix ',tme.total_seconds())"
   ]
  },
  {
   "cell_type": "code",
   "execution_count": null,
   "metadata": {},
   "outputs": [],
   "source": [
    "Pin_tt,Pbd_tt = tt_iga.projectors.get_projectors(N_basis,[[0,0],[0,0],[0,0]])\n",
    "# Pbd_tt = (1/N[0]) * Pbd_tt\n",
    "\n",
    "Pin_tt = Pin_tt \n",
    "Pbd_tt = Pbd_tt \n",
    "\n",
    "\n",
    "f_tt = tntt.zeros(Stt.N)\n",
    "\n",
    "excitation_dofs = tt_iga.Function(basis).interpolate(lambda t: tn.sin(t[:,0]*np.pi*2)*tn.sin(t[:,1]*np.pi))\n",
    "tmp = tn.zeros(N_basis)\n",
    "tmp[:,0,:] = excitation_dofs[:,:,0].full()\n",
    "g_tt = Pbd_tt@tntt.TT(tmp)\n",
    "\n",
    "eps_solver = 1e-7\n",
    "M_tt = (Pin_tt@(Stt-Mass_tt)+Pbd_tt).round(1e-12)\n",
    "rhs_tt = (Pbd_tt @ g_tt).round(1e-12)\n",
    "\n",
    "M_tt = M_tt.round(1e-11)"
   ]
  },
  {
   "cell_type": "code",
   "execution_count": null,
   "metadata": {},
   "outputs": [],
   "source": [
    "\n",
    "\n",
    "# M_qtt = ttm2qttm(M_tt).round(1e-9)\n",
    "# rhs_qtt = tt2qtt(rhs_tt)\n",
    "cuda = False\n",
    "print('Solving in TT...')\n",
    "tme_amen = datetime.datetime.now() \n",
    "if cuda and tn.cuda.is_available():\n",
    "    dofs_tt = tntt.solvers.amen_solve(M_tt.cuda(), rhs_tt.cuda(), x0 = tntt.ones(rhs_tt.N).cuda(), eps = eps_solver, nswp=40, kickrank=2, verbose=True, preconditioner = 'c', local_iterations=24, resets=10).cpu()\n",
    "else:\n",
    "    dofs_tt = tntt.solvers.amen_solve(M_tt, rhs_tt, x0 = tntt.ones(rhs_tt.N), eps = eps_solver, nswp=40, kickrank=4, verbose=False, preconditioner = 'c')\n",
    "tme_amen = (datetime.datetime.now() -tme_amen).total_seconds() \n",
    "\n",
    "print('Time system solve in TT ',tme_amen)\n",
    "print('Relative residual ', (M_tt@dofs_tt-rhs_tt).norm()/rhs_tt.norm())\n",
    "print('',flush=True)\n",
    "\n",
    "print('N ',dofs_tt.N)\n",
    "print('Rank Mtt ',M_tt.R)\n",
    "print('Rank rhstt ',rhs_tt.R)\n",
    "print('Rank solution ',dofs_tt.R)\n",
    "print('size stiff ',tntt.numel(Stt)*8/1e6,' MB')\n",
    "print('size mass ',tntt.numel(Mass_tt)*8/1e6,' MB')\n",
    "print('size system mat ',tntt.numel(M_tt)*8/1e6,' MB')\n",
    "print('size rhstt ',tntt.numel(rhs_tt)*8/1e6,' MB')\n",
    "print('size solution ',tntt.numel(dofs_tt)*8/1e6,' MB, one full solution: ',np.prod(dofs_tt.N)*8/1e6,' MB')"
   ]
  },
  {
   "cell_type": "code",
   "execution_count": null,
   "metadata": {},
   "outputs": [],
   "source": [
    "\n",
    "\n",
    "\n",
    "\n",
    "fspace = tt_iga.Function(basis)\n",
    "fspace.dofs = dofs_tt\n",
    "\n",
    "fval = fspace([tn.linspace(0,1,128),tn.linspace(0,1,128),tn.tensor([0.5])])\n",
    "x,y,z =  geom([tn.linspace(0,1,128),tn.linspace(0,1,128),tn.tensor([0.5])])\n",
    "\n",
    "plt.figure()\n",
    "plt.contour(x.numpy().squeeze(),y.numpy().squeeze(),fval.numpy().squeeze(), levels = 16)\n",
    "plt.colorbar()\n",
    "\n",
    "plt.figure()\n",
    "plt.contourf(x.numpy().squeeze(),y.numpy().squeeze(),fval.numpy().squeeze(), levels = 128, cmap = 'GnBu')\n",
    "plt.colorbar()\n",
    "\n",
    "\n",
    "fig = geom.plot_domain(None,[(0,1),(0,1),(0.0,1)],surface_color=None, wireframe = False,frame_color='k',n = 64)\n",
    "\n",
    "ax = fig.gca()\n",
    "C = fval.numpy().squeeze()\n",
    "norm = matplotlib.colors.Normalize(vmin=C.min(),vmax=C.max())\n",
    "C = plt.cm.jet(norm(C))\n",
    "C[:,:,-1] = 1\n",
    "ax.plot_surface(x.numpy().squeeze(), y.numpy().squeeze(), z.numpy().squeeze(), edgecolors=None, linewidth=0, facecolors = C, antialiased=True, rcount=256, ccount=256, alpha=0.5)\n",
    "fig.gca().set_xlabel(r'$x_1$', fontsize=14)\n",
    "fig.gca().set_ylabel(r'$x_2$', fontsize=14)\n",
    "fig.gca().set_zlabel(r'$x_3$', fontsize=14)\n",
    "fig.gca().zaxis.set_rotate_label(False)\n",
    "fig.gca().tick_params(axis='both', labelsize=14)\n",
    "\n",
    "# plt.savefig('./data/wg_solution.pdf')\n"
   ]
  }
 ],
 "metadata": {
  "kernelspec": {
   "display_name": "Python 3.9.13 ('pytorch_cpu')",
   "language": "python",
   "name": "python3"
  },
  "language_info": {
   "codemirror_mode": {
    "name": "ipython",
    "version": 3
   },
   "file_extension": ".py",
   "mimetype": "text/x-python",
   "name": "python",
   "nbconvert_exporter": "python",
   "pygments_lexer": "ipython3",
   "version": "3.9.13"
  },
  "orig_nbformat": 4,
  "vscode": {
   "interpreter": {
    "hash": "05592a33c7f3fcf6c33b80ec9238a682ec2adb54ca6931ffb6512b90f6c9de6f"
   }
  }
 },
 "nbformat": 4,
 "nbformat_minor": 2
}
