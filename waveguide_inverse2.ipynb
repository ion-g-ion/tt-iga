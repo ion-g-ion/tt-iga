{
 "cells": [
  {
   "cell_type": "markdown",
   "metadata": {},
   "source": [
    "# Helmholz equation on a parameter dependent domain (inverse problem)\n",
    "\n",
    "Solve the scalar Helmholz on a domain (depending on 3 parameters) resembeling a rectangular waveguide. \n",
    "\n",
    "Imports"
   ]
  },
  {
   "cell_type": "code",
   "execution_count": null,
   "metadata": {},
   "outputs": [],
   "source": [
    "import torch as tn\n",
    "import numpy as np\n",
    "import matplotlib.pyplot as plt\n",
    "import matplotlib.colors\n",
    "import datetime\n",
    "import tikzplotlib\n",
    "try:\n",
    "    import torchtt as tntt\n",
    "except:\n",
    "    print('Installing torchTT...')\n",
    "    %pip install git+https://github.com/ion-g-ion/torchtt\n",
    "    import torchtt as tntt\n",
    "try:\n",
    "    import tt_iga\n",
    "except:\n",
    "    print('Installing TT-IGA...')\n",
    "    %pip install git+https://github.com/ion-g-ion/code-paper-tt-iga\n",
    "    import tt_iga\n",
    "\n",
    "tn.set_default_dtype(tn.float64)\n",
    "np.random.seed(42)"
   ]
  },
  {
   "cell_type": "markdown",
   "metadata": {},
   "source": [
    "## Forward problem\n",
    "\n",
    "Curves and surfaces parametrizations for the shape"
   ]
  },
  {
   "cell_type": "code",
   "execution_count": null,
   "metadata": {},
   "outputs": [],
   "source": [
    "xc = lambda u,v: u*tn.sqrt(1-v**2/2)\n",
    "yc = lambda u,v: v*tn.sqrt(1-u**2/2)\n",
    "\n",
    "line = lambda t,a,b: t*(b-a)+a\n",
    "\n",
    "def plane_spanner(P1,P2,P3,t1,t2):\n",
    "    x = (P1[:,0]-P2[:,0])*t1+(P3[:,0]-P2[:,0])*t2+P2[:,0]\n",
    "    y = (P1[:,1]-P2[:,1])*t1+(P3[:,1]-P2[:,1])*t2+P2[:,1]\n",
    "    z = (P1[:,2]-P2[:,2])*t1+(P3[:,2]-P2[:,2])*t2+P2[:,2]\n",
    "    return x,y,z\n",
    "\n",
    "def curve2(t,a,b,c,d):\n",
    "    w2 = 1.5\n",
    "    ry = 1.5\n",
    "    h = 0.5\n",
    "    rz = 1.5+c\n",
    "    x = -1*(t<0.25)+tn.logical_and(t>=0.25,t<0.5)*line((t-0.25)/0.25,-1,-w2)+tn.logical_and(t>=0.5,t<=1)*(-w2)\n",
    "    y = 0*(t<=0.75) + (t>0.75) * ( -ry*tn.cos((t-0.75)/0.25*np.pi/2) + ry )\n",
    "    z = line(t/0.25,-3,-2+a)*(t<=0.25) + tn.logical_and(t>0.25,t<=0.5)*line((t-0.25)/0.25,-2+a,-1+b) + tn.logical_and(t>0.5,t<=0.75)*line((t-0.5)/0.25,-1+b,-0) + (t>0.75) * ( rz*tn.sin((t-0.75)/0.25*np.pi/2) )\n",
    "    return tn.hstack((tn.reshape(x,[-1,1]),tn.reshape(y,[-1,1]),tn.reshape(z,[-1,1])))\n",
    "\n",
    "def curve1(t,a,b,c,d):\n",
    "    w2 = 1.5\n",
    "    ry = 1.5\n",
    "    h = 0.5\n",
    "    rz = 1.5+c\n",
    "    x = 1*(t<0.25)+tn.logical_and(t>=0.25,t<0.5)*line((t-0.25)/0.25,1,w2)+tn.logical_and(t>=0.5,t<=1)*(w2)\n",
    "    y = 0*(t<=0.75) + (t>0.75) * ( -ry*tn.cos((t-0.75)/0.25*np.pi/2) + ry )\n",
    "    z = line(t/0.25,-3,-2+a)*(t<=0.25) + tn.logical_and(t>0.25,t<=0.5)*line((t-0.25)/0.25,-2+a,-1+b) + tn.logical_and(t>0.5,t<=0.75)*line((t-0.5)/0.25,-1+b,-0) + (t>0.75) * ( rz*tn.sin((t-0.75)/0.25*np.pi/2) )\n",
    "    return tn.hstack((tn.reshape(x,[-1,1]),tn.reshape(y,[-1,1]),tn.reshape(z,[-1,1])))\n",
    "  \n",
    "def curve3(t,a,b,c,d):\n",
    "    w2 = 1.5\n",
    "    ry = 1.5\n",
    "    h = 0.5\n",
    "    rz = 1.5+c\n",
    "    x = -1*(t<0.25)+tn.logical_and(t>=0.25,t<0.5)*line((t-0.25)/0.25,-1,-w2)+tn.logical_and(t>=0.5,t<=1)*(-w2)\n",
    "    y = h*(t<=0.75) + (t>0.75) * ( -(ry-h)*tn.cos((t-0.75)/0.25*np.pi/2) + ry )\n",
    "    z = line(t/0.25,-3,-2+a)*(t<=0.25) + tn.logical_and(t>0.25,t<=0.5)*line((t-0.25)/0.25,-2+a,-1+b) + tn.logical_and(t>0.5,t<=0.75)*line((t-0.5)/0.25,-1+b,-0) + (t>0.75) * ( (rz-h)*tn.sin((t-0.75)/0.25*np.pi/2) )\n",
    "    return tn.hstack((tn.reshape(x,[-1,1]),tn.reshape(y,[-1,1]),tn.reshape(z,[-1,1])))\n",
    "      "
   ]
  },
  {
   "cell_type": "markdown",
   "metadata": {},
   "source": [
    "Define the B-spline bases and the parameter space bases. \n",
    "For the parameter space, Gauss-Legendre nodes are used."
   ]
  },
  {
   "cell_type": "code",
   "execution_count": null,
   "metadata": {},
   "outputs": [],
   "source": [
    "deg = 2\n",
    "Ns = np.array([64,64,128])-deg+1\n",
    "# Ns = np.array([40,40,82])-deg+1\n",
    "baza1 = tt_iga.bspline.BSplineBasis(np.linspace(0,1,Ns[0]),deg)\n",
    "baza2 = tt_iga.bspline.BSplineBasis(np.linspace(0,1,Ns[1]),deg)\n",
    "baza3 = tt_iga.bspline.BSplineBasis(np.concatenate((np.linspace(0,0.25,Ns[2]//4),np.linspace(0.25,0.5,Ns[2]//4),np.linspace(0.5,0.75,Ns[2]//4),np.linspace(0.75,1,Ns[2]//4-1))),deg)\n",
    "\n",
    "Basis = [baza1,baza2,baza3]\n",
    "N = [baza1.N,baza2.N,baza3.N]\n",
    "\n",
    "nl = 8\n",
    "Basis_param = [tt_iga.lagrange.LagrangeLeg(nl,[-0.2,0.2]), tt_iga.lagrange.LagrangeLeg(nl,[-0.3,0.3]), tt_iga.lagrange.LagrangeLeg(nl,[-0.3,0.3]), tt_iga.lagrange.LagrangeLeg(nl,[-0.2,0.2])]\n"
   ]
  },
  {
   "cell_type": "markdown",
   "metadata": {},
   "source": [
    "Define the parametrization and create the geometry object."
   ]
  },
  {
   "cell_type": "code",
   "execution_count": null,
   "metadata": {},
   "outputs": [],
   "source": [
    "scale_mult = 1\n",
    "xparam = lambda t : plane_spanner(curve1(t[:,2],scale_mult*t[:,5],scale_mult*t[:,4],scale_mult*t[:,3],0),curve2(t[:,2],scale_mult*t[:,5],scale_mult*t[:,4],scale_mult*t[:,3],0),curve3(t[:,2],scale_mult*t[:,5],scale_mult*t[:,4],scale_mult*t[:,3],0),t[:,0],t[:,1])[0]\n",
    "yparam = lambda t : plane_spanner(curve1(t[:,2],scale_mult*t[:,5],scale_mult*t[:,4],scale_mult*t[:,3],0),curve2(t[:,2],scale_mult*t[:,5],scale_mult*t[:,4],scale_mult*t[:,3],0),curve3(t[:,2],scale_mult*t[:,5],scale_mult*t[:,4],scale_mult*t[:,3],0),t[:,0],t[:,1])[1]\n",
    "zparam = lambda t : plane_spanner(curve1(t[:,2],scale_mult*t[:,5],scale_mult*t[:,4],scale_mult*t[:,3],0),curve2(t[:,2],scale_mult*t[:,5],scale_mult*t[:,4],scale_mult*t[:,3],0),curve3(t[:,2],scale_mult*t[:,5],scale_mult*t[:,4],scale_mult*t[:,3],0),t[:,0],t[:,1])[2]\n",
    "\n",
    "# interpolate the geometry parametrization\n",
    "geom = tt_iga.PatchBSpline.interpolate_geometry([xparam, yparam, zparam], Basis, Basis_param)"
   ]
  },
  {
   "cell_type": "markdown",
   "metadata": {},
   "source": [
    "Firstly, plot the  geometry for the parameter $\\theta_1 = \\theta_2 = \\theta_3 = 0$.\n",
    "\n",
    "Secondly, plot the geometries corrrecponding to the edges of the parameter space $[-0.2,0.2] \\times [-0.2,0.2] \\times [-0.2,0.2]$, i.e. $(\\theta_1,\\theta_2,\\theta_3) \\in \\{-0.2,0.2\\} \\times \\{-0.2,0.2\\} \\times \\{-0.2,0.2\\}$.  "
   ]
  },
  {
   "cell_type": "code",
   "execution_count": null,
   "metadata": {},
   "outputs": [],
   "source": [
    "fig = plt.figure(figsize=(5,5))\n",
    "ax = plt.axes(projection='3d')\n",
    "x1 = geom([tn.tensor([0]), tn.tensor([1]), tn.tensor([0,0.25,0.5,0.75,1]),tn.tensor([0]),tn.tensor([0]),tn.tensor([0]),tn.tensor([0])])[0].numpy().squeeze()\n",
    "x2 = geom([tn.tensor([0]), tn.tensor([1]), tn.tensor([0,0.25,0.5,0.75,1]),tn.tensor([0]),tn.tensor([0]),tn.tensor([0]),tn.tensor([0])])[1].numpy().squeeze()\n",
    "x3 = geom([tn.tensor([0]), tn.tensor([1]), tn.tensor([0,0.25,0.5,0.75,1]),tn.tensor([0]),tn.tensor([0]),tn.tensor([0]),tn.tensor([0])])[2].numpy().squeeze()\n",
    "fig.gca().scatter3D(x1[0],x2[0],x3[0],c='blue',s=20)\n",
    "fig.gca().scatter3D(x1[1],x2[1],x3[1],c='blue',s=20)\n",
    "fig.gca().scatter3D(x1[2],x2[2],x3[2],c='blue',s=20)\n",
    "fig.gca().scatter3D(x1[3],x2[3],x3[3],c='blue',s=20)\n",
    "fig.gca().scatter3D(x1[4],x2[4],x3[4],c='blue',s=20)\n",
    "fig.gca().text(x1[0]+0.1,x2[0],x3[0]+0.1,r'$(%2g,%2g,%2.1g)$'%(x1[0],x2[0],x3[0]), fontsize = 8)\n",
    "fig.gca().text(x1[1],x2[1],x3[1]+0.1,r'$(%2g,%2g,\\theta_3%2.1g)$'%(x1[1],x2[1],x3[1]), fontsize = 8)\n",
    "fig.gca().text(x1[2]+0.1,x2[2],x3[2]+0.1,r'$(%2g,%2g,\\theta_2%2.1g)$'%(x1[2],x2[2],x3[2]), fontsize = 8)\n",
    "fig.gca().text(x1[3]+0.1,x2[3],x3[3]+0.1,r'$(%2g,%2g,0)$' %(x1[3],x2[3]), fontsize=8)\n",
    "fig.gca().text(x1[4]+0.1,x2[4],x3[4]+0.1,r'$(%2g,%2g,%2.1g+\\theta_1)$'%(x1[4],x2[4],x3[4]),fontsize=8)\n",
    "y1, y2, y3 = tn.tensor([0.25, 0.5, 0.75]), tn.tensor([0.25, 0.5, 0.75]), tn.tensor([0.75])\n",
    "x1 ,x2 , x3 = geom([y1, y2, y3]+4*[tn.tensor([0])])\n",
    "x1 = x1.numpy().flatten()\n",
    "x2 = x2.numpy().flatten()\n",
    "x3 = x3.numpy().flatten()\n",
    "for x,y,z in zip(x1,x2,x3):\n",
    "    fig.gca().scatter3D(x,y,z,c='red',s=10,marker='*')\n",
    "geom.plot_domain([tn.tensor([0.0]),tn.tensor([-0.0]),tn.tensor([0.0]),tn.tensor([0.0])],[(0,1),(0,1),(0.5,0.75)],fig=fig,surface_color=None, wireframe = False,alpha=0.1,n=64,frame_color='gray')\n",
    "geom.plot_domain([tn.tensor([0.0]),tn.tensor([-0.0]),tn.tensor([0.0]),tn.tensor([0.0])],[(0,1),(0,1),(0.25,0.5)],fig = fig, surface_color=None, wireframe = False,alpha=0.1,n=64,frame_color='gray')\n",
    "geom.plot_domain([tn.tensor([0.0]),tn.tensor([-0.0]),tn.tensor([0.0]),tn.tensor([0.0])],[(0,1),(0,1),(0.0,1)],fig = fig, surface_color='blue', wireframe = False,alpha=0.1,n=64,frame_color='k')\n",
    "fig.gca().set_xlabel(r'$x_1$', fontsize=12)\n",
    "fig.gca().set_ylabel(r'$x_2$', fontsize=12)\n",
    "fig.gca().set_zlabel(r'$x_3$', fontsize=12)\n",
    "fig.gca().view_init(15, -60)\n",
    "fig.gca().zaxis.set_rotate_label(False)\n",
    "fig.gca().set_xticks([-1.5, 0, 1.5])\n",
    "fig.gca().set_yticks([0,1.5])\n",
    "fig.gca().set_zticks([-3,-1.5,0,1.5])\n",
    "fig.gca().tick_params(axis='both', labelsize=12)\n",
    "fig.gca().set_box_aspect(aspect = (3,1.5,4.5))\n",
    "plt.savefig('./wg_geometry.pdf')\n",
    "#fig.gca().text()\n",
    "\n",
    "\n",
    "\n",
    "# fig = plt.figure(figsize=(5,5))\n",
    "# ax = plt.axes(projection='3d')\n",
    "# geom.plot_domain([tn.tensor([0.0]), tn.tensor([-0.0]), tn.tensor([0.0])],[(0,1),(0,1),(0.0,1)], fig = fig, surface_color=None, wireframe = False, alpha = 0.1, n = 64, frame_color = 'k')\n",
    "# geom.plot_domain([tn.tensor([Basis_param[0].interval[0]]),tn.tensor([Basis_param[1].interval[0]]), tn.tensor([Basis_param[2].interval[0]]) ],[(0,1),(0,1),(0.0,1)],fig = fig,surface_color='blue', wireframe = False,alpha=0.01,n=64)\n",
    "# geom.plot_domain([tn.tensor([Basis_param[0].interval[0]]),tn.tensor([Basis_param[1].interval[0]]), tn.tensor([Basis_param[2].interval[1]]) ],[(0,1),(0,1),(0.0,1)],fig = fig,surface_color='blue', wireframe = False,alpha=0.01,n=64)\n",
    "# geom.plot_domain([tn.tensor([Basis_param[0].interval[0]]),tn.tensor([Basis_param[1].interval[1]]), tn.tensor([Basis_param[2].interval[0]]) ],[(0,1),(0,1),(0.0,1)],fig = fig,surface_color='blue', wireframe = False,alpha=0.01,n=64)\n",
    "# geom.plot_domain([tn.tensor([Basis_param[0].interval[0]]),tn.tensor([Basis_param[1].interval[1]]), tn.tensor([Basis_param[2].interval[1]]) ],[(0,1),(0,1),(0.0,1)],fig = fig,surface_color='blue', wireframe = False,alpha=0.01,n=64)\n",
    "# geom.plot_domain([tn.tensor([Basis_param[0].interval[1]]),tn.tensor([Basis_param[1].interval[0]]), tn.tensor([Basis_param[2].interval[0]]) ],[(0,1),(0,1),(0.0,1)],fig = fig,surface_color='blue', wireframe = False,alpha=0.01,n=64)\n",
    "# geom.plot_domain([tn.tensor([Basis_param[0].interval[1]]),tn.tensor([Basis_param[1].interval[0]]), tn.tensor([Basis_param[2].interval[1]]) ],[(0,1),(0,1),(0.0,1)],fig = fig,surface_color='blue', wireframe = False,alpha=0.01,n=64)\n",
    "# geom.plot_domain([tn.tensor([Basis_param[0].interval[1]]),tn.tensor([Basis_param[1].interval[1]]), tn.tensor([Basis_param[2].interval[0]]) ],[(0,1),(0,1),(0.0,1)],fig = fig,surface_color='blue', wireframe = False,alpha=0.01,n=64)\n",
    "# geom.plot_domain([tn.tensor([Basis_param[0].interval[1]]),tn.tensor([Basis_param[1].interval[1]]), tn.tensor([Basis_param[2].interval[1]]) ],[(0,1),(0,1),(0.0,1)],fig = fig,surface_color='blue', wireframe = False,alpha=0.01,n=64)\n",
    "# fig.gca().set_xlabel(r'$x_1$', fontsize=12)\n",
    "# fig.gca().set_ylabel(r'$x_2$', fontsize=12)\n",
    "# fig.gca().set_zlabel(r'$x_3$', fontsize=12)\n",
    "# fig.gca().view_init(15, -60)\n",
    "# fig.gca().zaxis.set_rotate_label(False)\n",
    "# fig.gca().set_xticks([-1.5, 0, 1.5])\n",
    "# fig.gca().set_yticks([0,1.5])\n",
    "# fig.gca().set_zticks([-3,-1.5,0,1.5])\n",
    "# fig.gca().tick_params(axis='both', labelsize=14)\n",
    "# fig.gca().set_box_aspect(aspect = (3,1.5,4.5))\n",
    "# plt.savefig('./wg_params.pdf')\n"
   ]
  },
  {
   "cell_type": "markdown",
   "metadata": {},
   "source": [
    "Construct the stiffness and mass matrix for the entire parameter grid in the TT format."
   ]
  },
  {
   "cell_type": "code",
   "execution_count": null,
   "metadata": {},
   "outputs": [],
   "source": [
    "tme = datetime.datetime.now() \n",
    "Mass_tt = geom.mass_interp(Basis, eps=1e-12)\n",
    "tme = datetime.datetime.now() -tme\n",
    "print('Time mass matrix ',tme.total_seconds())\n",
    "\n",
    "kinv = lambda y: 1/(49 + y[...,6]*((y[...,2]<0.5)*(y[...,2]>0.25)))\n",
    "\n",
    "tme = datetime.datetime.now() \n",
    "Stt = geom.stiffness_interp(Basis, func=None, func_reference = kinv, qtt = True, verb=True, eps = 1e-9)\n",
    "tme = datetime.datetime.now() -tme\n",
    "print('Time stiffness matrix ',tme.total_seconds())"
   ]
  },
  {
   "cell_type": "markdown",
   "metadata": {},
   "source": [
    "Get the boundary/interior projection operators."
   ]
  },
  {
   "cell_type": "code",
   "execution_count": null,
   "metadata": {},
   "outputs": [],
   "source": [
    "Pin_tt,Pbd_tt = tt_iga.projectors.get_projectors(N,[[0,0],[0,0],[0,0]])\n",
    "Pbd_tt = (1/N[0]) * Pbd_tt\n",
    "\n",
    "Pin_tt = Pin_tt ** tntt.eye([nl]*4)\n",
    "Pbd_tt = Pbd_tt ** tntt.eye([nl]*4)"
   ]
  },
  {
   "cell_type": "markdown",
   "metadata": {},
   "source": [
    "Compute the excitation on the bottom port in TT format. \n",
    "The tensor is extended using Kronecker product since the excitation does not change with the parameters.\n",
    "The boundary projectpor is applied to let only the desired dofs nonzero."
   ]
  },
  {
   "cell_type": "code",
   "execution_count": null,
   "metadata": {},
   "outputs": [],
   "source": [
    "f_tt = tntt.zeros(Stt.N)\n",
    "\n",
    "excitation_dofs = tt_iga.Function(Basis).interpolate(lambda t: tn.sin(t[:,0]*np.pi)*tn.sin(t[:,1]*np.pi))\n",
    "tmp = tn.zeros(N)\n",
    "tmp[:,:,0] = excitation_dofs[:,:,0].full()\n",
    "g_tt =  (tntt.TT(tmp) ** tntt.ones([nl]*4))"
   ]
  },
  {
   "cell_type": "markdown",
   "metadata": {},
   "source": [
    "Compute the system matrix and include the boundary adaptation."
   ]
  },
  {
   "cell_type": "code",
   "execution_count": null,
   "metadata": {},
   "outputs": [],
   "source": [
    "k = 49\n",
    "\n",
    "eps_solver = 1e-7\n",
    "M_tt = (Pin_tt@(Stt-Mass_tt)+Pbd_tt).round(1e-12)\n",
    "rhs_tt = (Pbd_tt @ g_tt).round(1e-12)\n",
    "\n",
    "M_tt = M_tt.round(1e-11)"
   ]
  },
  {
   "cell_type": "markdown",
   "metadata": {},
   "source": [
    "Solve the problem (can solve on GPU if one is available) and report ranks, times, memory consumption, etc."
   ]
  },
  {
   "cell_type": "code",
   "execution_count": null,
   "metadata": {},
   "outputs": [],
   "source": [
    "cuda = True\n",
    "tme_amen = datetime.datetime.now() \n",
    "if cuda and tn.cuda.is_available():\n",
    "    print('Solving in TT (GPU)...')\n",
    "    dev_name = 'cuda:1'\n",
    "    dofs_tt = tntt.solvers.amen_solve(M_tt.to(dev_name), rhs_tt.to(dev_name), x0 = tntt.ones(rhs_tt.N).to(dev_name), eps = eps_solver, nswp=40, kickrank=2, verbose=False, preconditioner = 'c', local_iterations=24, resets=10).cpu()\n",
    "else:\n",
    "    print('Solving in TT (CPU)...')\n",
    "    dofs_tt = tntt.solvers.amen_solve(M_tt, rhs_tt, x0 = tntt.ones(rhs_tt.N), eps = eps_solver, nswp=40, kickrank=2, verbose=True, preconditioner = 'c', local_iterations=24, resets=10)\n",
    "tme_amen = (datetime.datetime.now() -tme_amen).total_seconds() \n",
    "\n",
    "print('',flush=True)\n",
    "print('Time system solve in TT :',tme_amen)\n",
    "print('Relative residual       :', (M_tt@dofs_tt-rhs_tt).norm()/rhs_tt.norm())\n",
    "print('N                       :',N)\n",
    "print('Rank Mtt                :',M_tt.R)\n",
    "print('Rank rhstt              :',rhs_tt.R)\n",
    "print('Rank solution           :',dofs_tt.R)\n",
    "print('Rank stiff              :',Stt.R)\n",
    "print('Rank mass               :',Mass_tt.R)\n",
    "print('size stiff              :',tntt.numel(Stt)*8/1e6,' MB')\n",
    "print('size mass               :',tntt.numel(Mass_tt)*8/1e6,' MB')\n",
    "print('size system mat         :',tntt.numel(M_tt)*8/1e6,' MB')\n",
    "print('size rhstt              :',tntt.numel(rhs_tt)*8/1e6,' MB')\n",
    "print('size solution           :',tntt.numel(dofs_tt)*8/1e6,' MB, one full solution: ',np.prod(N)*8/1e6,' MB')\n",
    "\n"
   ]
  },
  {
   "cell_type": "markdown",
   "metadata": {},
   "source": [
    "Plot the solution in the reference domain for $(y_1,y_2,y_3)\\in[0,1]\\times\\{0.5\\}\\times[0,1]$ and $\\theta_1=\\theta_2=\\theta_3=0$."
   ]
  },
  {
   "cell_type": "code",
   "execution_count": null,
   "metadata": {},
   "outputs": [],
   "source": [
    "fspace = tt_iga.Function(Basis+Basis_param)\n",
    "fspace.dofs = dofs_tt\n",
    "\n",
    "fval = fspace([tn.linspace(0,1,128), tn.tensor([0.5]), tn.linspace(0,1,128), tn.tensor([-0.2]), tn.tensor([-0.2]), tn.tensor([-0.2]), tn.tensor([-0.2])])\n",
    "y1, y3 = tn.meshgrid(tn.linspace(0,1,128),tn.linspace(0,1,128))\n",
    "\n",
    "plt.figure()\n",
    "plt.contourf(y1, y3, fval.numpy().squeeze(), levels = 128)\n",
    "plt.colorbar()\n",
    "plt.xlabel(r'$y_1$')\n",
    "plt.ylabel(r'$y_3$')\n",
    "\n",
    "fval = fspace([tn.linspace(0,1,128),tn.tensor([0.5]),tn.linspace(0,1,128),tn.tensor([0.2]),tn.tensor([0.2]),tn.tensor([0.2]), tn.tensor([-0.2])])\n",
    "\n",
    "plt.figure()\n",
    "plt.contourf(y1, y3, fval.numpy().squeeze(), levels = 128)\n",
    "plt.colorbar()\n",
    "plt.xlabel(r'$y_1$')\n",
    "plt.ylabel(r'$y_3$')\n"
   ]
  },
  {
   "cell_type": "markdown",
   "metadata": {},
   "source": [
    "Plot the domain and the solution in the physical domain for $(y_1,y_2,y_3)\\in[0,1]\\times\\{0.5\\}\\times[0,1]$ and $\\theta_1=\\theta_2=\\theta_3=0$."
   ]
  },
  {
   "cell_type": "code",
   "execution_count": null,
   "metadata": {},
   "outputs": [],
   "source": [
    "fval = fspace([tn.linspace(0,1,128),tn.tensor([0.5]),tn.linspace(0,1,128),tn.tensor([0.0]),tn.tensor([0.0]),tn.tensor([0.0]), tn.tensor([-0.0])])\n",
    "x,y,z =  geom([tn.linspace(0,1,128),tn.tensor([0.5]),tn.linspace(0,1,128),tn.tensor([0.0]),tn.tensor([0.0]),tn.tensor([0.0]), tn.tensor([-0.0])])\n",
    "\n",
    "fig = plt.figure(figsize=(5,5))\n",
    "ax = plt.axes(projection='3d')\n",
    "geom.plot_domain([tn.tensor([0.0])]*3,[(0,1),(0,1),(0.0,1)],fig = fig,surface_color=None, wireframe = False,frame_color='k',n = 64)\n",
    "geom.plot_domain([tn.tensor([0.0])]*3,[(0,1),(0,1),(0.25,0.5)],fig=fig,surface_color=None, wireframe = False,frame_color='k',n = 64)\n",
    "geom.plot_domain([tn.tensor([0.0])]*3,[(0,1),(0,1),(0.75,1)],fig=fig,surface_color=None, wireframe = False,frame_color='k',n = 64)\n",
    "import matplotlib.cm\n",
    "\n",
    "C = fval.numpy().squeeze()\n",
    "norm = matplotlib.colors.Normalize(vmin=C.min(),vmax=C.max())\n",
    "C = plt.cm.RdYlBu(norm(C))\n",
    "C[:,:,-1] = 1\n",
    "ax.plot_surface(x.numpy().squeeze(), y.numpy().squeeze(), z.numpy().squeeze(), edgecolors=None, linewidth=0, facecolors = C, antialiased=True, rcount=256, ccount=256, alpha=0.5, cmap = 'GnBu')\n",
    "fig.gca().set_xlabel(r'$x_1$', fontsize=14)\n",
    "fig.gca().set_ylabel(r'$x_2$', fontsize=14)\n",
    "fig.gca().set_zlabel(r'$x_3$', fontsize=14)\n",
    "fig.gca().view_init(15, -60)\n",
    "fig.gca().zaxis.set_rotate_label(False)\n",
    "fig.gca().set_xticks([-1.5, 0, 1.5])\n",
    "fig.gca().set_yticks([0,1])\n",
    "fig.gca().set_zticks([-3,-1.5,0,1.5])\n",
    "fig.gca().tick_params(axis='both', labelsize=14)\n",
    "fig.gca().set_box_aspect(aspect = (3,1.5,4.5))\n",
    "m = matplotlib.cm.ScalarMappable(cmap=plt.cm.RdYlBu, norm=norm)\n",
    "m.set_array([])\n",
    "plt.colorbar(m)\n",
    "plt.savefig('wg_solution.pdf')\n"
   ]
  },
  {
   "cell_type": "markdown",
   "metadata": {},
   "source": [
    "## Inverse problem\n",
    "\n",
    "First load the measurements from the file"
   ]
  },
  {
   "cell_type": "code",
   "execution_count": null,
   "metadata": {},
   "outputs": [],
   "source": [
    "y1, y2, y3 = tn.tensor([0.25, 0.5, 0.75]), tn.tensor([0.25, 0.5, 0.75]), tn.tensor([0.75])\n",
    "x1 ,x2 , x3 = geom([y1, y2, y3]+4*[tn.tensor([0])])\n",
    "print(x1.numpy().squeeze())\n",
    "print(x2.numpy().squeeze())\n",
    "print(x3.numpy().squeeze())\n",
    "\n",
    "print()\n",
    "print(fspace([ y1, y2, y3]+3*[tn.tensor([0])]).numpy().squeeze())\n",
    "import pickle\n",
    "with open('wg_measurement.pkl', 'rb') as f:\n",
    "    data = pickle.load(f)\n",
    "\n",
    "sigma_noise = 0.02\n",
    "u_noise = data['meas'] + np.random.normal(0, sigma_noise, size = data['meas'].shape)\n",
    "\n",
    "print(data['meas'])\n",
    "\n",
    "# x,y,z = geom([tn.tensor([0.5]), tn.tensor([0.5]), tn.tensor([0.75]), tn.linspace(-0.2,0.2,10), tn.linspace(-0.2,0.2,10), tn.linspace(-0.3,0.3,10)])\n",
    "# \n",
    "# get_y3 = lambda p: -0.25*0.5/(1-p)+0.75\n",
    "# print(np.std(x.numpy()), np.std(y.numpy()), np.std(z.numpy()))\n",
    "# print(z.numpy()[0,0,0,:,:,:].min(),z.numpy()[0,0,0,0,:,:].max())\n",
    "# \n",
    "# \n",
    "# for p in np.linspace(-0.2,0.2,10):\n",
    "#     y3 = get_y3(p)\n",
    "#     x,y,z = geom([tn.tensor([0.5]), tn.tensor([0.5]), tn.tensor([y3]), tn.linspace(-0.2,0.2,10), tn.tensor([p]), tn.linspace(-0.3,0.3,10)])\n",
    "#     print(np.std(x.numpy()), np.std(y.numpy()), np.std(z.numpy()),np.mean(z.numpy()))\n"
   ]
  },
  {
   "cell_type": "code",
   "execution_count": null,
   "metadata": {},
   "outputs": [],
   "source": [
    "\n",
    "def likelihood_handle(params):\n",
    "\n",
    "    s = tn.zeros((params.shape[0],))\n",
    "\n",
    "    for i in range(3):\n",
    "        for j in range(3):\n",
    "            argz = tn.hstack((y1[i]+tn.zeros((params.shape[0],1)), y2[j]+tn.zeros((params.shape[0],1)) ,y3[0]+tn.zeros((params.shape[0],1)), params))\n",
    "            u = fspace(argz)\n",
    "            \n",
    "\n",
    "            s = s + (u - u_noise[i,j])**2\n",
    "    \n",
    "    return tn.exp(-0.5*s /sigma_noise**2 )\n",
    "        \n",
    "\n",
    "\n",
    "\n",
    "\n",
    "def prior_handle(params):\n",
    "    # return tn.ones((params.shape[0],))\n",
    "    alpha = 4\n",
    "    beta = 4\n",
    "    scale = lambda p,v: (p+v)/2/v\n",
    "    p1 = scale(params[:,0], Basis_param[0].interval[0])**(alpha-1)*(1-scale(params[:,0], Basis_param[0].interval[0]))**(beta-1)\n",
    "    p2 = scale(params[:,1], Basis_param[1].interval[0])**(alpha-1)*(1-scale(params[:,1], Basis_param[1].interval[0]))**(beta-1)\n",
    "    p3 = scale(params[:,2], Basis_param[2].interval[0])**(alpha-1)*(1-scale(params[:,2], Basis_param[2].interval[0]))**(beta-1)\n",
    "    p4 = scale(params[:,3], Basis_param[3].interval[0])**(alpha-1)*(1-scale(params[:,3], Basis_param[3].interval[0]))**(beta-1)\n",
    "    return p1*p2*p3*p4\n",
    "    #return tn.exp(-1/(2*var*var)*(params[:,0]**2+params[:,1]**2+params[:,2]**2+params[:,3]**2))\n",
    "\n",
    "def posterior_handle(params):\n",
    "    print(params.shape)\n",
    "    return prior_handle(params)* likelihood_handle(params)#+1e-101*(params[...,0]+params[...,1]+params[...,2]+params[...,3])\n",
    "    # return tn.tensor(list(map((post), list(params))))\n",
    "\n"
   ]
  },
  {
   "cell_type": "code",
   "execution_count": null,
   "metadata": {},
   "outputs": [],
   "source": [
    "\n",
    "import TTCME\n",
    "\n",
    "\n",
    "basis = [ TTCME.basis.BSplineBasis(64,[Basis_param[i].interval[0],Basis_param[i].interval[1]],2) for i in range (3) ]\n",
    "xs = tntt.meshgrid([tn.tensor(b.interpolation_pts[0]) for b in basis])\n",
    "Mg = tntt.rank1TT([tn.tensor(b.interpolation_pts[1]) for b in basis])\n",
    "\n",
    "paramz = tn.hstack(( tn.reshape(xs[0].full(),[-1,1]) , tn.reshape(xs[1].full(),[-1,1]) , tn.reshape(xs[2].full(),[-1,1])  ))\n",
    "\n",
    "vals = tn.reshape(posterior_handle(paramz),[b.dim for b in basis])\n",
    "\n",
    "posterior_pdf = TTCME.pdfTT(basis, variable_names= ['theta1', 'theta2', 'theta3'], dofs = tntt.TT(vals,eps = 1e-12))\n",
    "# posterior_pdf = TTCME.pdfTT.interpoalte(posterior_handle, basis, variable_names=['theta1', 'theta2', 'theta3', 'theta4'])\n",
    "print(posterior_pdf)\n",
    "# \n",
    "prior_pdf = TTCME.pdfTT.interpoalte(prior_handle, basis, variable_names=['theta1', 'theta2', 'theta3'])"
   ]
  },
  {
   "cell_type": "code",
   "execution_count": null,
   "metadata": {},
   "outputs": [],
   "source": [
    "posterior_pdf.normalize()\n",
    "\n",
    "E = posterior_pdf.expected_value()\n",
    "C = posterior_pdf.covariance_matrix()\n",
    "V = np.diag(C)\n",
    "\n",
    "print()\n",
    "print('Exact parameters:                 ',[0,0,0,0])\n",
    "print('')\n",
    "print('Expected value computed posterior ' ,E)\n",
    "print('Coariance computed posterior      ' ,C)\n",
    "\n",
    "E = prior_pdf.expected_value()\n",
    "C = prior_pdf.covariance_matrix()\n",
    "V = np.diag(C)\n",
    "\n",
    "print('')\n",
    "print('Expected value prior              ' ,E)\n",
    "print('Variance prior                    ' ,V)"
   ]
  },
  {
   "cell_type": "code",
   "execution_count": null,
   "metadata": {},
   "outputs": [],
   "source": [
    "plt.figure(figsize = [6,6])\n",
    "true_parameters = [0.0]*3\n",
    "k = 0\n",
    "for i in range(3):\n",
    "    for j in range(3):\n",
    "        k += 1\n",
    "        if i==j:\n",
    "            plt.subplot(3, 3, k)\n",
    "            \n",
    "            theta = np.linspace(basis[i].domain[0], basis[i].domain[1],1000)\n",
    "            pr = prior_pdf.marginal([k for k in range(4) if i!=k])[theta].numpy()\n",
    "            po = posterior_pdf.marginal([k for k in range(4) if i!=k])[theta].numpy()\n",
    "           \n",
    "            plt.plot(theta,(po/np.max(po)*(np.max(theta)-np.min(theta))+np.min(theta)))\n",
    "            plt.axvline(true_parameters[i],c='r',linestyle=':')\n",
    "            plt.plot(theta,(pr/np.max(po)*(np.max(theta)-np.min(theta))+np.min(theta)),'g:')\n",
    "            \n",
    "        else:\n",
    "            plt.subplot(3, 3, k)\n",
    "             \n",
    "            if j<i: \n",
    "                theta1 = np.linspace(basis[j].domain[0], basis[j].domain[1], 127)\n",
    "                theta2 = np.linspace(basis[i].domain[0], basis[i].domain[1], 128)\n",
    "                \n",
    "                T1, T2 = np.meshgrid(theta1, theta2)\n",
    "                po = posterior_pdf.marginal([k for k in range(4) if i!=k and j!=k])\n",
    "                po.normalize()\n",
    "                po = po[theta1,theta2].numpy().T\n",
    "                plt.contourf(T1, T2, po, cmap='gray_r', levels =64)\n",
    "                plt.axvline(true_parameters[j],c='r',linestyle=':',linewidth=1)\n",
    "                plt.axhline(true_parameters[i],c='r',linestyle=':',linewidth=1)\n",
    "            else: \n",
    "                theta1 = np.linspace(basis[i].domain[0],basis[i].domain[1],127)\n",
    "                theta2 = np.linspace(basis[j].domain[0],basis[j].domain[1],128)\n",
    "                \n",
    "                T1, T2 = np.meshgrid(theta1, theta2)\n",
    "                po = posterior_pdf.marginal([k for k in range(4) if i!=k and j!=k])\n",
    "                po.normalize()\n",
    "                po = po[theta1,theta2].numpy().T\n",
    "                plt.contourf(T2, T1, po, cmap='gray_r', levels =64)\n",
    "                plt.axvline(true_parameters[j],c='r',linestyle=':',linewidth=1)\n",
    "                plt.axhline(true_parameters[i],c='r',linestyle=':',linewidth=1)\n",
    "        \n",
    "        if i==2: plt.xlabel(r'$\\theta_'+str(j+1)+'$')\n",
    "        if j==0: plt.ylabel(r'$\\theta_'+str(i+1)+'$')\n",
    "        \n",
    "        if j>0: plt.yticks([])\n",
    "        if i<2: plt.xticks([])\n",
    "\n",
    "plt.savefig('wg_posterior1.pdf')\n"
   ]
  },
  {
   "cell_type": "code",
   "execution_count": null,
   "metadata": {},
   "outputs": [],
   "source": [
    "dofs_tt"
   ]
  }
 ],
 "metadata": {
  "kernelspec": {
   "display_name": "Python 3.9.13 ('pytorch_cpu')",
   "language": "python",
   "name": "python3"
  },
  "language_info": {
   "codemirror_mode": {
    "name": "ipython",
    "version": 3
   },
   "file_extension": ".py",
   "mimetype": "text/x-python",
   "name": "python",
   "nbconvert_exporter": "python",
   "pygments_lexer": "ipython3",
   "version": "3.9.13"
  },
  "orig_nbformat": 4,
  "vscode": {
   "interpreter": {
    "hash": "05592a33c7f3fcf6c33b80ec9238a682ec2adb54ca6931ffb6512b90f6c9de6f"
   }
  }
 },
 "nbformat": 4,
 "nbformat_minor": 2
}
